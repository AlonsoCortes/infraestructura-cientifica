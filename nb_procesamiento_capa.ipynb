{
 "cells": [
  {
   "cell_type": "code",
   "execution_count": 3,
   "id": "8030b3d6",
   "metadata": {},
   "outputs": [],
   "source": [
    "import pandas as pd\n",
    "import geopandas as gpd"
   ]
  },
  {
   "cell_type": "code",
   "execution_count": 4,
   "id": "a2e690e9",
   "metadata": {},
   "outputs": [
    {
     "data": {
      "text/html": [
       "<div>\n",
       "<style scoped>\n",
       "    .dataframe tbody tr th:only-of-type {\n",
       "        vertical-align: middle;\n",
       "    }\n",
       "\n",
       "    .dataframe tbody tr th {\n",
       "        vertical-align: top;\n",
       "    }\n",
       "\n",
       "    .dataframe thead th {\n",
       "        text-align: right;\n",
       "    }\n",
       "</style>\n",
       "<table border=\"1\" class=\"dataframe\">\n",
       "  <thead>\n",
       "    <tr style=\"text-align: right;\">\n",
       "      <th></th>\n",
       "      <th>id</th>\n",
       "      <th>Nombre</th>\n",
       "      <th>Estado</th>\n",
       "      <th>Pais</th>\n",
       "      <th>Codigo_Postal</th>\n",
       "      <th>Geolocalizacion</th>\n",
       "      <th>Direccion</th>\n",
       "      <th>Institucion</th>\n",
       "      <th>Responsable_Tecnico</th>\n",
       "      <th>geometry</th>\n",
       "    </tr>\n",
       "  </thead>\n",
       "  <tbody>\n",
       "    <tr>\n",
       "      <th>0</th>\n",
       "      <td>5018.0</td>\n",
       "      <td>ANALIZADOR DE CARBONO, HIDROGENO Y NITROGENO</td>\n",
       "      <td>Campeche</td>\n",
       "      <td>México</td>\n",
       "      <td>24500</td>\n",
       "      <td>19.7859172, -90.60594259999999</td>\n",
       "      <td>EL COLEGIO DE LA FRONTERA SUR, AV. RANCHO POLÍ...</td>\n",
       "      <td>EL COLEGIO DE LA FRONTERA SUR</td>\n",
       "      <td>nlabrin@ecosur.mx</td>\n",
       "      <td>POINT Z (-90.60594 19.78592 0)</td>\n",
       "    </tr>\n",
       "  </tbody>\n",
       "</table>\n",
       "</div>"
      ],
      "text/plain": [
       "       id                                        Nombre    Estado    Pais  \\\n",
       "0  5018.0  ANALIZADOR DE CARBONO, HIDROGENO Y NITROGENO  Campeche  México   \n",
       "\n",
       "  Codigo_Postal                 Geolocalizacion  \\\n",
       "0         24500  19.7859172, -90.60594259999999   \n",
       "\n",
       "                                           Direccion  \\\n",
       "0  EL COLEGIO DE LA FRONTERA SUR, AV. RANCHO POLÍ...   \n",
       "\n",
       "                     Institucion Responsable_Tecnico  \\\n",
       "0  EL COLEGIO DE LA FRONTERA SUR   nlabrin@ecosur.mx   \n",
       "\n",
       "                         geometry  \n",
       "0  POINT Z (-90.60594 19.78592 0)  "
      ]
     },
     "execution_count": 4,
     "metadata": {},
     "output_type": "execute_result"
    }
   ],
   "source": [
    "gdf = gpd.read_file(\"datos/infraestructura-cientifica_CONACYT_21052021.gpkg\")\n",
    "gdf.head(1)"
   ]
  },
  {
   "cell_type": "code",
   "execution_count": 5,
   "id": "0b70048b",
   "metadata": {},
   "outputs": [
    {
     "data": {
      "text/html": [
       "<div>\n",
       "<style scoped>\n",
       "    .dataframe tbody tr th:only-of-type {\n",
       "        vertical-align: middle;\n",
       "    }\n",
       "\n",
       "    .dataframe tbody tr th {\n",
       "        vertical-align: top;\n",
       "    }\n",
       "\n",
       "    .dataframe thead th {\n",
       "        text-align: right;\n",
       "    }\n",
       "</style>\n",
       "<table border=\"1\" class=\"dataframe\">\n",
       "  <thead>\n",
       "    <tr style=\"text-align: right;\">\n",
       "      <th></th>\n",
       "      <th>id</th>\n",
       "      <th>Nombre</th>\n",
       "      <th>Estado</th>\n",
       "      <th>Pais</th>\n",
       "      <th>Codigo_Postal</th>\n",
       "      <th>Geolocalizacion</th>\n",
       "      <th>Direccion</th>\n",
       "      <th>Institucion</th>\n",
       "      <th>Responsable_Tecnico</th>\n",
       "      <th>geometry</th>\n",
       "    </tr>\n",
       "  </thead>\n",
       "  <tbody>\n",
       "    <tr>\n",
       "      <th>0</th>\n",
       "      <td>5018.0</td>\n",
       "      <td>Analizador de carbono, hidrogeno y nitrogeno</td>\n",
       "      <td>Campeche</td>\n",
       "      <td>México</td>\n",
       "      <td>24500</td>\n",
       "      <td>19.7859172, -90.60594259999999</td>\n",
       "      <td>El Colegio De La Frontera Sur, Av. Rancho Polí...</td>\n",
       "      <td>El Colegio De La Frontera Sur</td>\n",
       "      <td>nlabrin@ecosur.mx</td>\n",
       "      <td>POINT Z (-90.60594 19.78592 0)</td>\n",
       "    </tr>\n",
       "    <tr>\n",
       "      <th>1</th>\n",
       "      <td>5024.0</td>\n",
       "      <td>Microscopio confocal olympus fv1000 multifotonico</td>\n",
       "      <td>Morelos</td>\n",
       "      <td>México</td>\n",
       "      <td>62250</td>\n",
       "      <td>18.983824682919, -99.23399797175801</td>\n",
       "      <td>Instituto De Biotecnología, Av. Universidad 20...</td>\n",
       "      <td>Instituto De Biotecnología</td>\n",
       "      <td>chris@ibt.unam.mx</td>\n",
       "      <td>POINT Z (-99.234 18.98382 0)</td>\n",
       "    </tr>\n",
       "    <tr>\n",
       "      <th>2</th>\n",
       "      <td>5026.0</td>\n",
       "      <td>Microscopio confocal de disco giratorio 3i mar...</td>\n",
       "      <td>Morelos</td>\n",
       "      <td>México</td>\n",
       "      <td>62250</td>\n",
       "      <td>18.9838957, -99.23412940000003</td>\n",
       "      <td>Instituto De Biotecnología, Av. Universidad 20...</td>\n",
       "      <td>Instituto De Biotecnología</td>\n",
       "      <td>chris@ibt.unam.mx</td>\n",
       "      <td>POINT Z (-99.23413 18.9839 0)</td>\n",
       "    </tr>\n",
       "    <tr>\n",
       "      <th>3</th>\n",
       "      <td>5027.0</td>\n",
       "      <td>Citometro de flujo-microscopio amnis image str...</td>\n",
       "      <td>Morelos</td>\n",
       "      <td>México</td>\n",
       "      <td>62250</td>\n",
       "      <td>18.9838957, -99.23412940000003</td>\n",
       "      <td>Instituto De Biotecnología , Avenida  Universi...</td>\n",
       "      <td>Instituto De Biotecnología</td>\n",
       "      <td>chris@ibt.unam.mx</td>\n",
       "      <td>POINT Z (-99.23413 18.9839 0)</td>\n",
       "    </tr>\n",
       "    <tr>\n",
       "      <th>4</th>\n",
       "      <td>5028.0</td>\n",
       "      <td>Microscopio olympus ix81 tirf</td>\n",
       "      <td>Morelos</td>\n",
       "      <td>México</td>\n",
       "      <td>62210</td>\n",
       "      <td>18.9838957, -99.23412940000003</td>\n",
       "      <td>Intituto De Biotecnología, Avenida Universidad...</td>\n",
       "      <td>Intituto De Biotecnología</td>\n",
       "      <td>chris@ibt.unam.mx</td>\n",
       "      <td>POINT Z (-99.23413 18.9839 0)</td>\n",
       "    </tr>\n",
       "  </tbody>\n",
       "</table>\n",
       "</div>"
      ],
      "text/plain": [
       "       id                                             Nombre    Estado  \\\n",
       "0  5018.0       Analizador de carbono, hidrogeno y nitrogeno  Campeche   \n",
       "1  5024.0  Microscopio confocal olympus fv1000 multifotonico   Morelos   \n",
       "2  5026.0  Microscopio confocal de disco giratorio 3i mar...   Morelos   \n",
       "3  5027.0  Citometro de flujo-microscopio amnis image str...   Morelos   \n",
       "4  5028.0                      Microscopio olympus ix81 tirf   Morelos   \n",
       "\n",
       "     Pais Codigo_Postal                      Geolocalizacion  \\\n",
       "0  México         24500       19.7859172, -90.60594259999999   \n",
       "1  México         62250  18.983824682919, -99.23399797175801   \n",
       "2  México         62250       18.9838957, -99.23412940000003   \n",
       "3  México         62250       18.9838957, -99.23412940000003   \n",
       "4  México         62210       18.9838957, -99.23412940000003   \n",
       "\n",
       "                                           Direccion  \\\n",
       "0  El Colegio De La Frontera Sur, Av. Rancho Polí...   \n",
       "1  Instituto De Biotecnología, Av. Universidad 20...   \n",
       "2  Instituto De Biotecnología, Av. Universidad 20...   \n",
       "3  Instituto De Biotecnología , Avenida  Universi...   \n",
       "4  Intituto De Biotecnología, Avenida Universidad...   \n",
       "\n",
       "                     Institucion Responsable_Tecnico  \\\n",
       "0  El Colegio De La Frontera Sur   nlabrin@ecosur.mx   \n",
       "1     Instituto De Biotecnología   chris@ibt.unam.mx   \n",
       "2     Instituto De Biotecnología   chris@ibt.unam.mx   \n",
       "3     Instituto De Biotecnología   chris@ibt.unam.mx   \n",
       "4      Intituto De Biotecnología   chris@ibt.unam.mx   \n",
       "\n",
       "                         geometry  \n",
       "0  POINT Z (-90.60594 19.78592 0)  \n",
       "1    POINT Z (-99.234 18.98382 0)  \n",
       "2   POINT Z (-99.23413 18.9839 0)  \n",
       "3   POINT Z (-99.23413 18.9839 0)  \n",
       "4   POINT Z (-99.23413 18.9839 0)  "
      ]
     },
     "execution_count": 5,
     "metadata": {},
     "output_type": "execute_result"
    }
   ],
   "source": [
    "col_norm = ['Estado', 'Pais', 'Direccion', 'Institucion']\n",
    "gdf['Nombre'] = gdf['Nombre'].str.capitalize()\n",
    "gdf[col_norm] = gdf[col_norm].apply(\n",
    "    lambda x: x.str.strip()\n",
    "               .str.title()\n",
    ")\n",
    "\n",
    "gdf.head()"
   ]
  },
  {
   "cell_type": "code",
   "execution_count": 6,
   "id": "64721016",
   "metadata": {},
   "outputs": [
    {
     "name": "stdout",
     "output_type": "stream",
     "text": [
      "(1579, 10)\n",
      "1391\n",
      "290\n"
     ]
    }
   ],
   "source": [
    "print(gdf.shape)\n",
    "print(gdf['Nombre'].nunique())\n",
    "print(gdf['Institucion'].nunique())"
   ]
  },
  {
   "cell_type": "code",
   "execution_count": 7,
   "id": "f3d8c2f3",
   "metadata": {},
   "outputs": [],
   "source": [
    "pd.DataFrame(gdf['Nombre'].unique(), columns=['Nombre']).to_csv('nombres_infraestructura.txt', index=False)"
   ]
  },
  {
   "cell_type": "markdown",
   "id": "f422bb99",
   "metadata": {},
   "source": [
    "Unir información clasificada por chatgpt a partir de los nombres de los instrumentos"
   ]
  },
  {
   "cell_type": "code",
   "execution_count": 8,
   "id": "dc465888",
   "metadata": {},
   "outputs": [
    {
     "data": {
      "text/html": [
       "<div>\n",
       "<style scoped>\n",
       "    .dataframe tbody tr th:only-of-type {\n",
       "        vertical-align: middle;\n",
       "    }\n",
       "\n",
       "    .dataframe tbody tr th {\n",
       "        vertical-align: top;\n",
       "    }\n",
       "\n",
       "    .dataframe thead th {\n",
       "        text-align: right;\n",
       "    }\n",
       "</style>\n",
       "<table border=\"1\" class=\"dataframe\">\n",
       "  <thead>\n",
       "    <tr style=\"text-align: right;\">\n",
       "      <th></th>\n",
       "      <th>Nombre del equipo</th>\n",
       "      <th>Categoría general</th>\n",
       "      <th>Subtipo o técnica</th>\n",
       "      <th>Área de aplicación</th>\n",
       "      <th>Observaciones</th>\n",
       "    </tr>\n",
       "  </thead>\n",
       "  <tbody>\n",
       "    <tr>\n",
       "      <th>0</th>\n",
       "      <td>Analizador de carbono, hidrogeno y nitrogeno</td>\n",
       "      <td>Instrumentación analítica</td>\n",
       "      <td>Analizadores / Detectores / Monitores</td>\n",
       "      <td>Química, física, ingeniería ambiental</td>\n",
       "      <td>Equipos diseñados para medir parámetros físico...</td>\n",
       "    </tr>\n",
       "  </tbody>\n",
       "</table>\n",
       "</div>"
      ],
      "text/plain": [
       "                              Nombre del equipo          Categoría general  \\\n",
       "0  Analizador de carbono, hidrogeno y nitrogeno  Instrumentación analítica   \n",
       "\n",
       "                       Subtipo o técnica  \\\n",
       "0  Analizadores / Detectores / Monitores   \n",
       "\n",
       "                      Área de aplicación  \\\n",
       "0  Química, física, ingeniería ambiental   \n",
       "\n",
       "                                       Observaciones  \n",
       "0  Equipos diseñados para medir parámetros físico...  "
      ]
     },
     "execution_count": 8,
     "metadata": {},
     "output_type": "execute_result"
    }
   ],
   "source": [
    "df = pd.read_excel('datos/equipamiento_cientifico_clasificado.xlsx')\n",
    "df.head(1)"
   ]
  },
  {
   "cell_type": "code",
   "execution_count": 9,
   "id": "2c674f95",
   "metadata": {},
   "outputs": [
    {
     "name": "stdout",
     "output_type": "stream",
     "text": [
      "(1648, 15)\n",
      "Index(['id', 'Nombre', 'Estado', 'Pais', 'Codigo_Postal', 'Geolocalizacion',\n",
      "       'Direccion', 'Institucion', 'Responsable_Tecnico', 'geometry',\n",
      "       'Nombre del equipo', 'Categoría general', 'Subtipo o técnica',\n",
      "       'Área de aplicación', 'Observaciones'],\n",
      "      dtype='object')\n"
     ]
    }
   ],
   "source": [
    "gdf_u = pd.merge(gdf, df, left_on='Nombre', right_on='Nombre del equipo', how='left')\n",
    "print(gdf_u.shape)\n",
    "gdf_u.head(1)\n",
    "print(gdf_u.columns)\n"
   ]
  },
  {
   "cell_type": "code",
   "execution_count": 10,
   "id": "c3d6ce6d",
   "metadata": {},
   "outputs": [
    {
     "data": {
      "text/html": [
       "<div>\n",
       "<style scoped>\n",
       "    .dataframe tbody tr th:only-of-type {\n",
       "        vertical-align: middle;\n",
       "    }\n",
       "\n",
       "    .dataframe tbody tr th {\n",
       "        vertical-align: top;\n",
       "    }\n",
       "\n",
       "    .dataframe thead th {\n",
       "        text-align: right;\n",
       "    }\n",
       "</style>\n",
       "<table border=\"1\" class=\"dataframe\">\n",
       "  <thead>\n",
       "    <tr style=\"text-align: right;\">\n",
       "      <th></th>\n",
       "      <th>id</th>\n",
       "      <th>nombre_equipo</th>\n",
       "      <th>categoria_general</th>\n",
       "      <th>subtipo_tecnica</th>\n",
       "      <th>area_aplicacion</th>\n",
       "      <th>observaciones</th>\n",
       "      <th>institucion</th>\n",
       "      <th>responsable_tecnico</th>\n",
       "      <th>estado</th>\n",
       "      <th>pais</th>\n",
       "      <th>codigo_postal</th>\n",
       "      <th>geolocalizacion</th>\n",
       "      <th>direccion</th>\n",
       "      <th>geometry</th>\n",
       "    </tr>\n",
       "  </thead>\n",
       "  <tbody>\n",
       "    <tr>\n",
       "      <th>0</th>\n",
       "      <td>5018.0</td>\n",
       "      <td>Analizador de carbono, hidrogeno y nitrogeno</td>\n",
       "      <td>Instrumentación analítica</td>\n",
       "      <td>Analizadores / Detectores / Monitores</td>\n",
       "      <td>Química, física, ingeniería ambiental</td>\n",
       "      <td>Equipos diseñados para medir parámetros físico...</td>\n",
       "      <td>El Colegio De La Frontera Sur</td>\n",
       "      <td>nlabrin@ecosur.mx</td>\n",
       "      <td>Campeche</td>\n",
       "      <td>México</td>\n",
       "      <td>24500</td>\n",
       "      <td>19.7859172, -90.60594259999999</td>\n",
       "      <td>El Colegio De La Frontera Sur, Av. Rancho Polí...</td>\n",
       "      <td>POINT Z (-90.60594 19.78592 0)</td>\n",
       "    </tr>\n",
       "  </tbody>\n",
       "</table>\n",
       "</div>"
      ],
      "text/plain": [
       "       id                                 nombre_equipo  \\\n",
       "0  5018.0  Analizador de carbono, hidrogeno y nitrogeno   \n",
       "\n",
       "           categoria_general                        subtipo_tecnica  \\\n",
       "0  Instrumentación analítica  Analizadores / Detectores / Monitores   \n",
       "\n",
       "                         area_aplicacion  \\\n",
       "0  Química, física, ingeniería ambiental   \n",
       "\n",
       "                                       observaciones  \\\n",
       "0  Equipos diseñados para medir parámetros físico...   \n",
       "\n",
       "                     institucion responsable_tecnico    estado    pais  \\\n",
       "0  El Colegio De La Frontera Sur   nlabrin@ecosur.mx  Campeche  México   \n",
       "\n",
       "  codigo_postal                 geolocalizacion  \\\n",
       "0         24500  19.7859172, -90.60594259999999   \n",
       "\n",
       "                                           direccion  \\\n",
       "0  El Colegio De La Frontera Sur, Av. Rancho Polí...   \n",
       "\n",
       "                         geometry  \n",
       "0  POINT Z (-90.60594 19.78592 0)  "
      ]
     },
     "execution_count": 10,
     "metadata": {},
     "output_type": "execute_result"
    }
   ],
   "source": [
    "# Reordenamiento de columnas\n",
    "ordenadas = ['id','Nombre del equipo', 'Categoría general', 'Subtipo o técnica',\n",
    "       'Área de aplicación', 'Observaciones', 'Institucion', 'Responsable_Tecnico','Estado', \n",
    "       'Pais', 'Codigo_Postal', 'Geolocalizacion','Direccion',  'geometry']\n",
    "# Reordenar el DataFrame\n",
    "gdf_u = gdf_u[ordenadas]\n",
    "\n",
    "gdf_u = gdf_u.rename(columns={\n",
    "    'Nombre del equipo': 'nombre_equipo',\n",
    "    'Categoría general': 'categoria_general',\n",
    "    'Subtipo o técnica': 'subtipo_tecnica',\n",
    "    'Área de aplicación': 'area_aplicacion',\n",
    "    'Observaciones': 'observaciones',\n",
    "    'Institucion': 'institucion',\n",
    "    'Responsable_Tecnico': 'responsable_tecnico',\n",
    "    'Estado': 'estado',\n",
    "    'Pais': 'pais',\n",
    "    'Codigo_Postal': 'codigo_postal',\n",
    "    'Geolocalizacion': 'geolocalizacion',\n",
    "    'Direccion': 'direccion'\n",
    "})\n",
    "gdf_u.head(1)"
   ]
  },
  {
   "cell_type": "code",
   "execution_count": 18,
   "id": "a63563a8",
   "metadata": {},
   "outputs": [
    {
     "data": {
      "text/plain": [
       "array(['Analizadores / Detectores / Monitores',\n",
       "       'Confocal / Electrónica / Óptica / Estereoscópica', nan,\n",
       "       'Procesamiento / Conservación / Esterilización',\n",
       "       'PCR / qPCR / Secuenciación',\n",
       "       'Masa / Infrarroja / Raman / UV-Vis / FTIR',\n",
       "       'Clúster / Servidor / Estación de trabajo',\n",
       "       'Difractómetro / Radiometría / RX',\n",
       "       'Sistemas de simulación / Visualización 3D',\n",
       "       'HPLC / GC / FPLC / UHPLC', 'Potenciostato / Galvanostato',\n",
       "       'Flujo / Fluorescencia', 'Fermentador / Reactor',\n",
       "       'Impresión 3D / Escaneo', 'Drones / Vehículos / Robots',\n",
       "       'Sensores / Estaciones / Plataformas',\n",
       "       'Reometría / Termogravimetría / Calorimetría'], dtype=object)"
      ]
     },
     "execution_count": 18,
     "metadata": {},
     "output_type": "execute_result"
    }
   ],
   "source": [
    "gdf_u['subtipo_tecnica'].unique()"
   ]
  },
  {
   "cell_type": "code",
   "execution_count": 11,
   "id": "17daa7ed",
   "metadata": {},
   "outputs": [],
   "source": [
    "gdf_u.to_file(\"datos/infraestructura_cientifica.geojson\", driver=\"GeoJSON\")"
   ]
  }
 ],
 "metadata": {
  "kernelspec": {
   "display_name": "gds",
   "language": "python",
   "name": "python3"
  },
  "language_info": {
   "codemirror_mode": {
    "name": "ipython",
    "version": 3
   },
   "file_extension": ".py",
   "mimetype": "text/x-python",
   "name": "python",
   "nbconvert_exporter": "python",
   "pygments_lexer": "ipython3",
   "version": "3.13.2"
  }
 },
 "nbformat": 4,
 "nbformat_minor": 5
}
